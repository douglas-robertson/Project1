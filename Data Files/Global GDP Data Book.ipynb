{
 "cells": [
  {
   "cell_type": "code",
   "execution_count": null,
   "id": "e5da1f9e",
   "metadata": {},
   "outputs": [],
   "source": [
    "#editing the gdp data\n",
    "import pandas as pd\n"
   ]
  },
  {
   "cell_type": "code",
   "execution_count": null,
   "id": "88d8e93e",
   "metadata": {},
   "outputs": [],
   "source": [
    "#Import CSV file\n",
    "gdp_df = pd.read_csv(\"Global US GDP.csv\")\n",
    "gdp_df.head()"
   ]
  },
  {
   "cell_type": "code",
   "execution_count": null,
   "id": "3d1529ef",
   "metadata": {},
   "outputs": [],
   "source": []
  }
 ],
 "metadata": {
  "kernelspec": {
   "display_name": "Python 3 (ipykernel)",
   "language": "python",
   "name": "python3"
  }
 },
 "nbformat": 4,
 "nbformat_minor": 5
}
